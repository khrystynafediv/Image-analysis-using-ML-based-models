{
 "cells": [
  {
   "cell_type": "markdown",
   "id": "25edb362",
   "metadata": {},
   "source": [
    "# BioImage Model Zoo localy and image analysis"
   ]
  },
  {
   "cell_type": "code",
   "execution_count": null,
   "id": "892c7aed",
   "metadata": {},
   "outputs": [],
   "source": [
    "#for using GPU on Mac\n",
    "#pip install tensorflow-macos tensorflow-metal"
   ]
  },
  {
   "cell_type": "code",
   "execution_count": null,
   "id": "a2e0d6cf",
   "metadata": {},
   "outputs": [],
   "source": [
    "import matplotlib.pyplot as plt\n",
    "import zarr\n",
    "import dask\n",
    "import dask.array as da\n",
    "import numpy as np\n",
    "import bioimageio.core\n",
    "from bioimageio.core import Tensor, Sample, create_prediction_pipeline\n",
    "from bioimageio.spec.utils import load_array\n",
    "from dask import delayed\n",
    "import imageio\n",
    "from tifffile import imread\n",
    "from mpl_toolkits.mplot3d import Axes3D\n",
    "import torch\n",
    "\n",
    "\n",
    "import re\n",
    "import os\n",
    "import tifffile as tiff\n",
    "from tifffile import imread\n",
    "from skimage.filters import threshold_otsu\n",
    "import time"
   ]
  },
  {
   "cell_type": "code",
   "execution_count": 2,
   "id": "663f9576",
   "metadata": {},
   "outputs": [
    {
     "name": "stdout",
     "output_type": "stream",
     "text": [
      "[PhysicalDevice(name='/physical_device:GPU:0', device_type='GPU')]\n"
     ]
    }
   ],
   "source": [
    "import tensorflow as tf\n",
    "print(tf.config.list_physical_devices('GPU'))"
   ]
  },
  {
   "cell_type": "code",
   "execution_count": 3,
   "id": "978d88ab",
   "metadata": {},
   "outputs": [],
   "source": [
    "tf.debugging.set_log_device_placement(True)"
   ]
  },
  {
   "cell_type": "code",
   "execution_count": null,
   "id": "198bdfaa",
   "metadata": {},
   "outputs": [
    {
     "name": "stdout",
     "output_type": "stream",
     "text": [
      "input: (_Arg): /job:localhost/replica:0/task:0/device:GPU:0\n",
      "Executing op _EagerConst in device /job:localhost/replica:0/task:0/device:GPU:0\n",
      "_EagerConst: (_EagerConst): /job:localhost/replica:0/task:0/device:GPU:0\n",
      "output_RetVal: (_Retval): /job:localhost/replica:0/task:0/device:GPU:0\n",
      "Executing op _EagerConst in device /job:localhost/replica:0/task:0/device:GPU:0\n",
      "a: (_Arg): /job:localhost/replica:0/task:0/device:GPU:0\n",
      "b: (_Arg): /job:localhost/replica:0/task:0/device:GPU:0\n",
      "MatMul: (MatMul): /job:localhost/replica:0/task:0/device:GPU:0\n",
      "product_RetVal: (_Retval): /job:localhost/replica:0/task:0/device:GPU:0\n",
      "Executing op MatMul in device /job:localhost/replica:0/task:0/device:GPU:0\n",
      "tf.Tensor([[11.]], shape=(1, 1), dtype=float32)\n"
     ]
    },
    {
     "name": "stderr",
     "output_type": "stream",
     "text": [
      "2025-08-17 19:45:05.160876: I metal_plugin/src/device/metal_device.cc:1154] Metal device set to: Apple M1\n",
      "2025-08-17 19:45:05.161006: I metal_plugin/src/device/metal_device.cc:296] systemMemory: 8.00 GB\n",
      "2025-08-17 19:45:05.161026: I metal_plugin/src/device/metal_device.cc:313] maxCacheSize: 2.67 GB\n",
      "2025-08-17 19:45:05.161493: I tensorflow/core/common_runtime/pluggable_device/pluggable_device_factory.cc:305] Could not identify NUMA node of platform GPU ID 0, defaulting to 0. Your kernel may not have been built with NUMA support.\n",
      "2025-08-17 19:45:05.161524: I tensorflow/core/common_runtime/pluggable_device/pluggable_device_factory.cc:271] Created TensorFlow device (/job:localhost/replica:0/task:0/device:GPU:0 with 0 MB memory) -> physical PluggableDevice (device: 0, name: METAL, pci bus id: <undefined>)\n",
      "2025-08-17 19:45:05.192058: I tensorflow/core/common_runtime/placer.cc:125] input: (_Arg): /job:localhost/replica:0/task:0/device:GPU:0\n",
      "2025-08-17 19:45:05.192233: I tensorflow/core/common_runtime/placer.cc:125] _EagerConst: (_EagerConst): /job:localhost/replica:0/task:0/device:GPU:0\n",
      "2025-08-17 19:45:05.192239: I tensorflow/core/common_runtime/placer.cc:125] output_RetVal: (_Retval): /job:localhost/replica:0/task:0/device:GPU:0\n",
      "2025-08-17 19:45:05.209173: I tensorflow/core/common_runtime/placer.cc:125] a: (_Arg): /job:localhost/replica:0/task:0/device:GPU:0\n",
      "2025-08-17 19:45:05.209184: I tensorflow/core/common_runtime/placer.cc:125] b: (_Arg): /job:localhost/replica:0/task:0/device:GPU:0\n",
      "2025-08-17 19:45:05.209190: I tensorflow/core/common_runtime/placer.cc:125] MatMul: (MatMul): /job:localhost/replica:0/task:0/device:GPU:0\n",
      "2025-08-17 19:45:05.209195: I tensorflow/core/common_runtime/placer.cc:125] product_RetVal: (_Retval): /job:localhost/replica:0/task:0/device:GPU:0\n"
     ]
    }
   ],
   "source": [
    "#check if tensorflow works\n",
    "a = tf.constant([[1.0, 2.0]])\n",
    "b = tf.constant([[3.0], [4.0]])\n",
    "c = tf.matmul(a, b)\n",
    "print(c)"
   ]
  },
  {
   "cell_type": "code",
   "execution_count": 5,
   "id": "32d0d163",
   "metadata": {},
   "outputs": [],
   "source": [
    "#Function to interact with a 3D image\n",
    "%matplotlib inline\n",
    "from ipywidgets import *\n",
    "\n",
    "def update(image, z=0):\n",
    "    fig = plt.figure(figsize=(10, 10))\n",
    "    plt.subplot(121)\n",
    "    c = 0\n",
    "    t = 0\n",
    "    plt.imshow(image[t, c, z, :, :])\n",
    "    fig.canvas.flush_events()\n",
    "\n",
    "def update3ch(image, z=0):\n",
    "    fig = plt.figure(figsize=(6, 6))\n",
    "    rgb = np.stack([\n",
    "        image[0, 1, z],  # channel 0 -> Green\n",
    "        image[0, 0, z],  # channel 1 -> Red\n",
    "        image[0, 2, z],  # channel 2 -> Blue\n",
    "    ], axis=-1)\n",
    "\n",
    "    #Values normalization, if they are not in [0,1]\n",
    "    rgb = rgb.astype(np.float32)\n",
    "    rgb -= rgb.min()\n",
    "    rgb /= rgb.max()\n",
    "\n",
    "    plt.imshow(rgb)\n",
    "    plt.title(f\"Z = {z}\")\n",
    "    plt.axis(\"off\")\n",
    "    plt.show()\n",
    "\n",
    "def update3ch_together(image, z=0):\n",
    "    fig, axes = plt.subplots(1, 3, figsize=(15, 5))\n",
    "\n",
    "    channel_names = ['Green=EdU', 'Red=gammaH2AX', 'Blue=53BP1']\n",
    "    for c in range(3):\n",
    "        axes[c].imshow(image[0, c, z, :, :], cmap='gray')\n",
    "        axes[c].set_title(f'{channel_names[c]} channel - Z={z}')\n",
    "        axes[c].axis('off')\n",
    "\n",
    "    plt.tight_layout()\n",
    "    plt.show()\n",
    "\n",
    "#Display the results of masking (probabilities prediction)\n",
    "def display(i=0):\n",
    "    prediction, sample, inp_id, outp_id, name = results[i]\n",
    "    pred_array = np.asarray(prediction.members[outp_id].data)\n",
    "    fig = plt.figure(figsize=(10, 10))\n",
    "    plt.subplot(121)\n",
    "    plt.imshow(pred_array[0, 0, :, :])\n",
    "    plt.title(name)\n",
    "    fig.canvas.flush_events()\n",
    "\n",
    "binarized_results = []\n",
    "\n",
    "# Function to display and collect binarized results\n",
    "def display_bin(i=0):\n",
    "    prediction, sample, inp_id, outp_id, name = results[i]\n",
    "    pred_array = np.asarray(prediction.members[outp_id].data)\n",
    "    binary_pred = pred_array[0, 0, :, :] >= 0.5\n",
    "    binarized_results.append(binary_pred)  # Append binarized 2D result (mask)\n",
    "\n",
    "    fig = plt.figure(figsize=(10, 10))\n",
    "    plt.subplot(121)\n",
    "    plt.imshow(binary_pred[:, :])\n",
    "    plt.title(name)\n",
    "    fig.canvas.flush_events()\n"
   ]
  },
  {
   "cell_type": "code",
   "execution_count": 6,
   "id": "92784e5f",
   "metadata": {},
   "outputs": [],
   "source": [
    "# Function to handle model inference\n",
    "def run_model_inference(bmz_model, arr):\n",
    "    # load model\n",
    "    model_resource = bioimageio.core.load_description(bmz_model)\n",
    "\n",
    "    # load model's test input image\n",
    "    test_input_image = load_array(model_resource.inputs[0].test_tensor)\n",
    "\n",
    "    # match test data type with the data type of the model input\n",
    "    arr = arr.astype(test_input_image.dtype)\n",
    "\n",
    "    # create input tensor\n",
    "    input_tensor = Tensor.from_numpy(arr, dims=tuple(model_resource.inputs[0].axes))\n",
    "\n",
    "    # create collection of tensors (sample)\n",
    "    inp_id = model_resource.inputs[0].id\n",
    "    outp_id = model_resource.outputs[0].id\n",
    "    sample = Sample(members={inp_id: input_tensor}, stat={}, id=\"id\")\n",
    "\n",
    "    # The prediction_pipeline function is used to run a prediction with a given model\n",
    "    # It applies the pre-processing, if indicated in the model rdf.yaml,\n",
    "    # runs inference with the model and applies the post-processing, again if specified in the model rdf.yaml.\n",
    "    prediction_pipeline = create_prediction_pipeline(model_resource)\n",
    "\n",
    "    # Use the new prediction pipeline to run a prediction. The prediction pipeline returns a Sample object\n",
    "    prediction = prediction_pipeline.predict_sample_without_blocking(sample)\n",
    "\n",
    "    return prediction, sample, inp_id, outp_id"
   ]
  },
  {
   "cell_type": "code",
   "execution_count": 7,
   "id": "4ee8d15f",
   "metadata": {},
   "outputs": [],
   "source": [
    "def create_a_mask(image, z):\n",
    "    #plane = image_3D[z, :, :].compute() # convert the Dask array into a Numpy array\n",
    "    prediction, sample, inp_id, outp_id = run_model_inference(bmz_model_id, image)\n",
    "    name = \"z:%s\" % (z)\n",
    "    return prediction, sample, inp_id, outp_id, name"
   ]
  },
  {
   "cell_type": "markdown",
   "id": "5a6cfd6d",
   "metadata": {},
   "source": [
    "## Import data and image processing"
   ]
  },
  {
   "cell_type": "markdown",
   "id": "264eb8f9",
   "metadata": {},
   "source": [
    "### Import"
   ]
  },
  {
   "cell_type": "code",
   "execution_count": null,
   "id": "ba4c3932",
   "metadata": {},
   "outputs": [],
   "source": [
    "#Our path\n",
    "folder_path = ('./BDS3_2025_data/MXT') #path to your image\n",
    "\n",
    "#Choose all the files in .tiff format\n",
    "file_list = [f for f in os.listdir(folder_path) if f.endswith('.tif')]"
   ]
  },
  {
   "cell_type": "code",
   "execution_count": 9,
   "id": "f31a030f",
   "metadata": {},
   "outputs": [
    {
     "name": "stdout",
     "output_type": "stream",
     "text": [
      "CPU times: user 3 μs, sys: 1e+03 ns, total: 4 μs\n",
      "Wall time: 7.15 μs\n"
     ]
    }
   ],
   "source": [
    "%time\n",
    "# Extract unique base names (without _C1, _C2, _C3 before .tif)\n",
    "base_names = set()\n",
    "for f in file_list:\n",
    "    if '_C' in f:\n",
    "        base_name = f.split('_C')[0]\n",
    "        base_names.add(base_name)\n",
    "\n",
    "#Sort base names for consistency:\n",
    "base_names = sorted(list(base_names))\n",
    "\n",
    "#Template for extracting cycle phase name from the file name:\n",
    "pattern = re.compile(r'1h-1h_(.+?)_Pos') #with usage of RegEx packade (re)\n",
    "\n",
    "#Data storage list: each item is [C1, C2, C3]\n",
    "dict = {}\n",
    "\n",
    "for name in base_names:\n",
    "    match = pattern.search(name)\n",
    "    if not match:\n",
    "        continue\n",
    "    phase = match.group(1)\n",
    "\n",
    "    c1_path = os.path.join(folder_path, f\"{name}_C1.tif\")\n",
    "    c2_path = os.path.join(folder_path, f\"{name}_C2.tif\")\n",
    "    c3_path = os.path.join(folder_path, f\"{name}_C3.tif\")\n",
    "\n",
    "    if all(os.path.exists(p) for p in [c1_path, c2_path, c3_path]):\n",
    "        #add to dictionary\n",
    "        if phase not in dict:\n",
    "            dict[phase] = []\n",
    "        dict[phase].append([c1_path, c2_path, c3_path])\n",
    "    else:\n",
    "        print(f\"Lack of a channel for: {name}\")\n",
    "#results format will be like:\n",
    "#{'G': [[c1_path, c2_path, c3_path], ...], 'SIII': [...], ...}"
   ]
  },
  {
   "cell_type": "code",
   "execution_count": 10,
   "id": "f0243921",
   "metadata": {},
   "outputs": [
    {
     "name": "stdout",
     "output_type": "stream",
     "text": [
      "Phases:\n",
      "- G\n",
      "- S_IV\n",
      "- S_I\n",
      "- S_V\n",
      "- S_III\n",
      "- S_II\n"
     ]
    }
   ],
   "source": [
    "print(\"Phases:\")\n",
    "for phase in dict:\n",
    "    print(f\"- {phase}\")"
   ]
  },
  {
   "cell_type": "code",
   "execution_count": null,
   "id": "823a3222",
   "metadata": {},
   "outputs": [],
   "source": [
    "phases = list(dict.keys())\n",
    "print(phases)"
   ]
  },
  {
   "cell_type": "code",
   "execution_count": 12,
   "id": "b411afc2",
   "metadata": {},
   "outputs": [
    {
     "name": "stdout",
     "output_type": "stream",
     "text": [
      "Phase 'G' contains 1 samples(sample_index: 0)\n",
      "Phase 'S_IV' contains 1 samples(sample_index: 0)\n",
      "Phase 'S_I' contains 1 samples(sample_index: 0)\n",
      "Phase 'S_V' contains 1 samples(sample_index: 0)\n",
      "Phase 'S_III' contains 1 samples(sample_index: 0)\n",
      "Phase 'S_II' contains 1 samples(sample_index: 0)\n"
     ]
    }
   ],
   "source": [
    "for phase in dict:\n",
    "    count = len(dict[phase])\n",
    "    print(f\"Phase '{phase}' contains {count} samples(sample_index: 0)\")"
   ]
  },
  {
   "cell_type": "code",
   "execution_count": 13,
   "id": "926873fa",
   "metadata": {},
   "outputs": [
    {
     "data": {
      "text/plain": [
       "(98, 512, 512)"
      ]
     },
     "execution_count": 13,
     "metadata": {},
     "output_type": "execute_result"
    }
   ],
   "source": [
    "#show first image -> [0], second channel - [1]\n",
    "image_path = dict[\"S_III\"][0][1] #dict[phase][sample_index][channel]\n",
    "our_image = imread(image_path)\n",
    "our_image.shape"
   ]
  },
  {
   "cell_type": "code",
   "execution_count": null,
   "id": "cfe366aa",
   "metadata": {},
   "outputs": [
    {
     "name": "stdout",
     "output_type": "stream",
     "text": [
      "Folder 'masks1' already exists.\n"
     ]
    }
   ],
   "source": [
    "bmz_model_id = bioimageio.core.load_description('./affable-shark/rdf.yaml') #path to your model; you need to download the folder with model from website\n",
    "\n",
    "#folder_name = \"predictions\"\n",
    "#if not os.path.exists(folder_name):\n",
    "    #os.makedirs(folder_name)\n",
    "    #print(f\"Folder '{folder_name}' created successfully!\")\n",
    "#else:\n",
    "    #print(f\"Folder '{folder_name}' already exists.\")\n",
    "\n",
    "\n",
    "folder_name = \"masks\"\n",
    "if not os.path.exists(folder_name):\n",
    "    os.makedirs(folder_name)\n",
    "    print(f\"Folder '{folder_name}' created successfully!\")\n",
    "else:\n",
    "    print(f\"Folder '{folder_name}' already exists.\")"
   ]
  },
  {
   "cell_type": "markdown",
   "id": "d9059d08",
   "metadata": {},
   "source": [
    "### Processing "
   ]
  },
  {
   "cell_type": "code",
   "execution_count": null,
   "id": "e3a4e62b",
   "metadata": {},
   "outputs": [],
   "source": [
    "def process_images(image_data):\n",
    "    for image in image_data:\n",
    "        img = imread(image)\n",
    "        print(img.shape)\n",
    "\n",
    "        #sample_ch = f.split(folder_path[0])\n",
    "        #sample_ch = os.path.basename(image)\n",
    "        sample_ch = os.path.splitext(os.path.basename(image))[0]\n",
    "        print(sample_ch)\n",
    "        #print (f\"Image name: {sample_ch}\")\n",
    "\n",
    "        #save image as zarr\n",
    "        zarr_path = \"./zarr_files/\" + sample_ch + \".zarr\"\n",
    "        #print(zarr_path)\n",
    "        zarr.save(zarr_path, img)\n",
    "        print(\"Saved as Zarr:\", zarr_path)\n",
    "        z = zarr.open(zarr_path, mode='r')\n",
    "        z_dask = da.from_zarr(z)\n",
    "        print(f\"Z_dask shape: {z_dask.shape}\")\n",
    "\n",
    "        lazy_results = []\n",
    "\n",
    "        for z in range(z_dask.shape[0]):\n",
    "          r = delayed(create_a_mask)(z_dask[z, :, :] , z)\n",
    "          lazy_results.append(r)\n",
    "\n",
    "        print(time.ctime())\n",
    "        results = dask.compute(*lazy_results)\n",
    "        print(time.ctime())\n",
    "\n",
    "        #save prediction\n",
    "        #prediction_stack = np.stack(results, axis=0)\n",
    "        #output_path = \"./predictions/\" + sample_ch + \".tif\"\n",
    "        #tiff.imwrite(output_path, prediction_stack.astype(np.uint8))\n",
    "\n",
    "        #masks\n",
    "        # List to store binarized planes\n",
    "        binarized_results = []\n",
    "\n",
    "          # Iterate over all planes\n",
    "        for i in range(len(results)):\n",
    "          prediction, sample, inp_id, outp_id, name = results[i]\n",
    "          pred_array = np.asarray(prediction.members[outp_id].data)\n",
    "          # Extract the 2D plane\n",
    "          plane = pred_array[0, 0, :, :]\n",
    "          # Binarize using Otsu’s method\n",
    "          #threshold = threshold_otsu(plane)\n",
    "          threshold = 0.5\n",
    "          binary_plane = plane >= threshold  # True (1) for foreground, False (0) for background\n",
    "\n",
    "          binarized_results.append(binary_plane.astype(np.uint8))  # Convert to uint8 (0 and 1)\n",
    "          # Convert list to 3D array\n",
    "        mask_3d = np.stack(binarized_results, axis=0)  # Stack along Z-axis\n",
    "        drive_output_dir = \"./masks1\"\n",
    "        os.makedirs(drive_output_dir, exist_ok=True)\n",
    "        output_path = os.path.join(drive_output_dir, f\"{sample_ch}.tiff\")\n",
    "        imageio.volsave(output_path, mask_3d.astype(np.uint8))\n",
    "\n",
    "        mask_path = \"./masks/\" + sample_ch + \".tif\"\n",
    "        imageio.volsave(mask_path, mask_3d.astype(np.uint8))\n",
    "        print(\"Saved binarized 3D mask.\")\n",
    "\n",
    "    return print(\"Finally!\")"
   ]
  },
  {
   "cell_type": "markdown",
   "id": "2b67a652",
   "metadata": {},
   "source": [
    "For one phase (three images)"
   ]
  },
  {
   "cell_type": "code",
   "execution_count": null,
   "id": "8fb8446c",
   "metadata": {},
   "outputs": [
    {
     "name": "stdout",
     "output_type": "stream",
     "text": [
      "(97, 512, 512)\n",
      "2015.01.17_MTX_1h-1h_G_Pos033_S001_0_C1\n",
      "Saved as Zarr: ./zarr_files/2015.01.17_MTX_1h-1h_G_Pos033_S001_0_C1.zarr\n",
      "Z_dask shape: (97, 512, 512)\n",
      "Sun Aug 17 18:53:28 2025\n"
     ]
    },
    {
     "name": "stderr",
     "output_type": "stream",
     "text": [
      "\u001b[32m2025-08-17 18:53:28.176\u001b[0m | \u001b[33m\u001b[1mWARNING \u001b[0m | \u001b[36mbioimageio.spec._io\u001b[0m:\u001b[36mload_description\u001b[0m:\u001b[36m84\u001b[0m - \u001b[33m\u001b[1mreturning already loaded description 'Nuclei Segmentation Boundary Model' as is\u001b[0m\n",
      "\u001b[32m2025-08-17 18:53:28.190\u001b[0m | \u001b[33m\u001b[1mWARNING \u001b[0m | \u001b[36mbioimageio.spec._io\u001b[0m:\u001b[36mload_description\u001b[0m:\u001b[36m84\u001b[0m - \u001b[33m\u001b[1mreturning already loaded description 'Nuclei Segmentation Boundary Model' as is\u001b[0m\n",
      "\u001b[32m2025-08-17 18:53:28.190\u001b[0m | \u001b[33m\u001b[1mWARNING \u001b[0m | \u001b[36mbioimageio.spec._io\u001b[0m:\u001b[36mload_description\u001b[0m:\u001b[36m84\u001b[0m - \u001b[33m\u001b[1mreturning already loaded description 'Nuclei Segmentation Boundary Model' as is\u001b[0m\n",
      "\u001b[32m2025-08-17 18:53:28.191\u001b[0m | \u001b[33m\u001b[1mWARNING \u001b[0m | \u001b[36mbioimageio.spec._io\u001b[0m:\u001b[36mload_description\u001b[0m:\u001b[36m84\u001b[0m - \u001b[33m\u001b[1mreturning already loaded description 'Nuclei Segmentation Boundary Model' as is\u001b[0m\n",
      "\u001b[32m2025-08-17 18:53:28.191\u001b[0m | \u001b[33m\u001b[1mWARNING \u001b[0m | \u001b[36mbioimageio.spec._io\u001b[0m:\u001b[36mload_description\u001b[0m:\u001b[36m84\u001b[0m - \u001b[33m\u001b[1mreturning already loaded description 'Nuclei Segmentation Boundary Model' as is\u001b[0m\n",
      "\u001b[32m2025-08-17 18:53:28.192\u001b[0m | \u001b[33m\u001b[1mWARNING \u001b[0m | \u001b[36mbioimageio.spec._io\u001b[0m:\u001b[36mload_description\u001b[0m:\u001b[36m84\u001b[0m - \u001b[33m\u001b[1mreturning already loaded description 'Nuclei Segmentation Boundary Model' as is\u001b[0m\n",
      "\u001b[32m2025-08-17 18:53:28.192\u001b[0m | \u001b[33m\u001b[1mWARNING \u001b[0m | \u001b[36mbioimageio.spec._io\u001b[0m:\u001b[36mload_description\u001b[0m:\u001b[36m84\u001b[0m - \u001b[33m\u001b[1mreturning already loaded description 'Nuclei Segmentation Boundary Model' as is\u001b[0m\n",
      "\u001b[32m2025-08-17 18:53:28.200\u001b[0m | \u001b[33m\u001b[1mWARNING \u001b[0m | \u001b[36mbioimageio.spec._io\u001b[0m:\u001b[36mload_description\u001b[0m:\u001b[36m84\u001b[0m - \u001b[33m\u001b[1mreturning already loaded description 'Nuclei Segmentation Boundary Model' as is\u001b[0m\n"
     ]
    },
    {
     "ename": "KeyboardInterrupt",
     "evalue": "",
     "output_type": "error",
     "traceback": [
      "\u001b[0;31m---------------------------------------------------------------------------\u001b[0m",
      "\u001b[0;31mKeyboardInterrupt\u001b[0m                         Traceback (most recent call last)",
      "Cell \u001b[0;32mIn[14], line 2\u001b[0m\n\u001b[1;32m      1\u001b[0m \u001b[38;5;66;03m#to call the function, you need:\u001b[39;00m\n\u001b[0;32m----> 2\u001b[0m \u001b[43mprocess_images\u001b[49m\u001b[43m(\u001b[49m\u001b[38;5;28;43mdict\u001b[39;49m\u001b[43m[\u001b[49m\u001b[38;5;124;43m\"\u001b[39;49m\u001b[38;5;124;43mG\u001b[39;49m\u001b[38;5;124;43m\"\u001b[39;49m\u001b[43m]\u001b[49m\u001b[43m[\u001b[49m\u001b[38;5;241;43m0\u001b[39;49m\u001b[43m]\u001b[49m\u001b[43m)\u001b[49m\n\u001b[1;32m      3\u001b[0m \u001b[38;5;66;03m#print(shape)\u001b[39;00m\n",
      "Cell \u001b[0;32mIn[13], line 28\u001b[0m, in \u001b[0;36mprocess_images\u001b[0;34m(image_data)\u001b[0m\n\u001b[1;32m     25\u001b[0m   lazy_results\u001b[38;5;241m.\u001b[39mappend(r)\n\u001b[1;32m     27\u001b[0m \u001b[38;5;28mprint\u001b[39m(time\u001b[38;5;241m.\u001b[39mctime())\n\u001b[0;32m---> 28\u001b[0m results \u001b[38;5;241m=\u001b[39m \u001b[43mdask\u001b[49m\u001b[38;5;241;43m.\u001b[39;49m\u001b[43mcompute\u001b[49m\u001b[43m(\u001b[49m\u001b[38;5;241;43m*\u001b[39;49m\u001b[43mlazy_results\u001b[49m\u001b[43m)\u001b[49m\n\u001b[1;32m     29\u001b[0m \u001b[38;5;28mprint\u001b[39m(time\u001b[38;5;241m.\u001b[39mctime())\n\u001b[1;32m     31\u001b[0m \u001b[38;5;66;03m#save prediction\u001b[39;00m\n\u001b[1;32m     32\u001b[0m \u001b[38;5;66;03m#prediction_stack = np.stack(results, axis=0)\u001b[39;00m\n\u001b[1;32m     33\u001b[0m \u001b[38;5;66;03m#output_path = \"./predictions/\" + sample_ch + \".tif\"\u001b[39;00m\n\u001b[0;32m   (...)\u001b[0m\n\u001b[1;32m     36\u001b[0m \u001b[38;5;66;03m#masks\u001b[39;00m\n\u001b[1;32m     37\u001b[0m \u001b[38;5;66;03m# List to store binarized planes\u001b[39;00m\n",
      "File \u001b[0;32m~/miniconda3/envs/bioimage_env/lib/python3.10/site-packages/dask/base.py:681\u001b[0m, in \u001b[0;36mcompute\u001b[0;34m(traverse, optimize_graph, scheduler, get, *args, **kwargs)\u001b[0m\n\u001b[1;32m    678\u001b[0m     expr \u001b[38;5;241m=\u001b[39m expr\u001b[38;5;241m.\u001b[39moptimize()\n\u001b[1;32m    679\u001b[0m     keys \u001b[38;5;241m=\u001b[39m \u001b[38;5;28mlist\u001b[39m(flatten(expr\u001b[38;5;241m.\u001b[39m__dask_keys__()))\n\u001b[0;32m--> 681\u001b[0m     results \u001b[38;5;241m=\u001b[39m \u001b[43mschedule\u001b[49m\u001b[43m(\u001b[49m\u001b[43mexpr\u001b[49m\u001b[43m,\u001b[49m\u001b[43m \u001b[49m\u001b[43mkeys\u001b[49m\u001b[43m,\u001b[49m\u001b[43m \u001b[49m\u001b[38;5;241;43m*\u001b[39;49m\u001b[38;5;241;43m*\u001b[39;49m\u001b[43mkwargs\u001b[49m\u001b[43m)\u001b[49m\n\u001b[1;32m    683\u001b[0m \u001b[38;5;28;01mreturn\u001b[39;00m repack(results)\n",
      "File \u001b[0;32m~/miniconda3/envs/bioimage_env/lib/python3.10/queue.py:171\u001b[0m, in \u001b[0;36mQueue.get\u001b[0;34m(self, block, timeout)\u001b[0m\n\u001b[1;32m    169\u001b[0m \u001b[38;5;28;01melif\u001b[39;00m timeout \u001b[38;5;129;01mis\u001b[39;00m \u001b[38;5;28;01mNone\u001b[39;00m:\n\u001b[1;32m    170\u001b[0m     \u001b[38;5;28;01mwhile\u001b[39;00m \u001b[38;5;129;01mnot\u001b[39;00m \u001b[38;5;28mself\u001b[39m\u001b[38;5;241m.\u001b[39m_qsize():\n\u001b[0;32m--> 171\u001b[0m         \u001b[38;5;28;43mself\u001b[39;49m\u001b[38;5;241;43m.\u001b[39;49m\u001b[43mnot_empty\u001b[49m\u001b[38;5;241;43m.\u001b[39;49m\u001b[43mwait\u001b[49m\u001b[43m(\u001b[49m\u001b[43m)\u001b[49m\n\u001b[1;32m    172\u001b[0m \u001b[38;5;28;01melif\u001b[39;00m timeout \u001b[38;5;241m<\u001b[39m \u001b[38;5;241m0\u001b[39m:\n\u001b[1;32m    173\u001b[0m     \u001b[38;5;28;01mraise\u001b[39;00m \u001b[38;5;167;01mValueError\u001b[39;00m(\u001b[38;5;124m\"\u001b[39m\u001b[38;5;124m'\u001b[39m\u001b[38;5;124mtimeout\u001b[39m\u001b[38;5;124m'\u001b[39m\u001b[38;5;124m must be a non-negative number\u001b[39m\u001b[38;5;124m\"\u001b[39m)\n",
      "File \u001b[0;32m~/miniconda3/envs/bioimage_env/lib/python3.10/threading.py:320\u001b[0m, in \u001b[0;36mCondition.wait\u001b[0;34m(self, timeout)\u001b[0m\n\u001b[1;32m    318\u001b[0m \u001b[38;5;28;01mtry\u001b[39;00m:    \u001b[38;5;66;03m# restore state no matter what (e.g., KeyboardInterrupt)\u001b[39;00m\n\u001b[1;32m    319\u001b[0m     \u001b[38;5;28;01mif\u001b[39;00m timeout \u001b[38;5;129;01mis\u001b[39;00m \u001b[38;5;28;01mNone\u001b[39;00m:\n\u001b[0;32m--> 320\u001b[0m         \u001b[43mwaiter\u001b[49m\u001b[38;5;241;43m.\u001b[39;49m\u001b[43macquire\u001b[49m\u001b[43m(\u001b[49m\u001b[43m)\u001b[49m\n\u001b[1;32m    321\u001b[0m         gotit \u001b[38;5;241m=\u001b[39m \u001b[38;5;28;01mTrue\u001b[39;00m\n\u001b[1;32m    322\u001b[0m     \u001b[38;5;28;01melse\u001b[39;00m:\n",
      "\u001b[0;31mKeyboardInterrupt\u001b[0m: "
     ]
    },
    {
     "name": "stderr",
     "output_type": "stream",
     "text": [
      "\u001b[32m2025-08-17 18:56:31.762\u001b[0m | \u001b[33m\u001b[1mWARNING \u001b[0m | \u001b[36mbioimageio.spec._io\u001b[0m:\u001b[36mload_description\u001b[0m:\u001b[36m84\u001b[0m - \u001b[33m\u001b[1mreturning already loaded description 'Nuclei Segmentation Boundary Model' as is\u001b[0m\n",
      "\u001b[32m2025-08-17 18:56:31.781\u001b[0m | \u001b[33m\u001b[1mWARNING \u001b[0m | \u001b[36mbioimageio.spec._io\u001b[0m:\u001b[36mload_description\u001b[0m:\u001b[36m84\u001b[0m - \u001b[33m\u001b[1mreturning already loaded description 'Nuclei Segmentation Boundary Model' as is\u001b[0m\n",
      "\u001b[32m2025-08-17 18:56:31.781\u001b[0m | \u001b[33m\u001b[1mWARNING \u001b[0m | \u001b[36mbioimageio.spec._io\u001b[0m:\u001b[36mload_description\u001b[0m:\u001b[36m84\u001b[0m - \u001b[33m\u001b[1mreturning already loaded description 'Nuclei Segmentation Boundary Model' as is\u001b[0m\n",
      "\u001b[32m2025-08-17 18:56:31.782\u001b[0m | \u001b[33m\u001b[1mWARNING \u001b[0m | \u001b[36mbioimageio.spec._io\u001b[0m:\u001b[36mload_description\u001b[0m:\u001b[36m84\u001b[0m - \u001b[33m\u001b[1mreturning already loaded description 'Nuclei Segmentation Boundary Model' as is\u001b[0m\n",
      "\u001b[32m2025-08-17 18:56:31.782\u001b[0m | \u001b[33m\u001b[1mWARNING \u001b[0m | \u001b[36mbioimageio.spec._io\u001b[0m:\u001b[36mload_description\u001b[0m:\u001b[36m84\u001b[0m - \u001b[33m\u001b[1mreturning already loaded description 'Nuclei Segmentation Boundary Model' as is\u001b[0m\n",
      "\u001b[32m2025-08-17 18:56:31.782\u001b[0m | \u001b[33m\u001b[1mWARNING \u001b[0m | \u001b[36mbioimageio.spec._io\u001b[0m:\u001b[36mload_description\u001b[0m:\u001b[36m84\u001b[0m - \u001b[33m\u001b[1mreturning already loaded description 'Nuclei Segmentation Boundary Model' as is\u001b[0m\n",
      "\u001b[32m2025-08-17 18:56:31.783\u001b[0m | \u001b[33m\u001b[1mWARNING \u001b[0m | \u001b[36mbioimageio.spec._io\u001b[0m:\u001b[36mload_description\u001b[0m:\u001b[36m84\u001b[0m - \u001b[33m\u001b[1mreturning already loaded description 'Nuclei Segmentation Boundary Model' as is\u001b[0m\n",
      "\u001b[32m2025-08-17 18:56:31.783\u001b[0m | \u001b[33m\u001b[1mWARNING \u001b[0m | \u001b[36mbioimageio.spec._io\u001b[0m:\u001b[36mload_description\u001b[0m:\u001b[36m84\u001b[0m - \u001b[33m\u001b[1mreturning already loaded description 'Nuclei Segmentation Boundary Model' as is\u001b[0m\n",
      "\u001b[32m2025-08-17 18:56:51.521\u001b[0m | \u001b[33m\u001b[1mWARNING \u001b[0m | \u001b[36mbioimageio.spec._io\u001b[0m:\u001b[36mload_description\u001b[0m:\u001b[36m84\u001b[0m - \u001b[33m\u001b[1mreturning already loaded description 'Nuclei Segmentation Boundary Model' as is\u001b[0m\n",
      "\u001b[32m2025-08-17 18:56:51.518\u001b[0m | \u001b[33m\u001b[1mWARNING \u001b[0m | \u001b[36mbioimageio.spec._io\u001b[0m:\u001b[36mload_description\u001b[0m:\u001b[36m84\u001b[0m - \u001b[33m\u001b[1mreturning already loaded description 'Nuclei Segmentation Boundary Model' as is\u001b[0m\n",
      "\u001b[32m2025-08-17 18:56:51.534\u001b[0m | \u001b[33m\u001b[1mWARNING \u001b[0m | \u001b[36mbioimageio.spec._io\u001b[0m:\u001b[36mload_description\u001b[0m:\u001b[36m84\u001b[0m - \u001b[33m\u001b[1mreturning already loaded description 'Nuclei Segmentation Boundary Model' as is\u001b[0m\n",
      "\u001b[32m2025-08-17 18:56:52.530\u001b[0m | \u001b[33m\u001b[1mWARNING \u001b[0m | \u001b[36mbioimageio.spec._io\u001b[0m:\u001b[36mload_description\u001b[0m:\u001b[36m84\u001b[0m - \u001b[33m\u001b[1mreturning already loaded description 'Nuclei Segmentation Boundary Model' as is\u001b[0m\n",
      "\u001b[32m2025-08-17 18:56:52.658\u001b[0m | \u001b[33m\u001b[1mWARNING \u001b[0m | \u001b[36mbioimageio.spec._io\u001b[0m:\u001b[36mload_description\u001b[0m:\u001b[36m84\u001b[0m - \u001b[33m\u001b[1mreturning already loaded description 'Nuclei Segmentation Boundary Model' as is\u001b[0m\n",
      "\u001b[32m2025-08-17 18:56:55.101\u001b[0m | \u001b[33m\u001b[1mWARNING \u001b[0m | \u001b[36mbioimageio.spec._io\u001b[0m:\u001b[36mload_description\u001b[0m:\u001b[36m84\u001b[0m - \u001b[33m\u001b[1mreturning already loaded description 'Nuclei Segmentation Boundary Model' as is\u001b[0m\n",
      "\u001b[32m2025-08-17 18:56:55.758\u001b[0m | \u001b[33m\u001b[1mWARNING \u001b[0m | \u001b[36mbioimageio.spec._io\u001b[0m:\u001b[36mload_description\u001b[0m:\u001b[36m84\u001b[0m - \u001b[33m\u001b[1mreturning already loaded description 'Nuclei Segmentation Boundary Model' as is\u001b[0m\n",
      "\u001b[32m2025-08-17 18:56:56.072\u001b[0m | \u001b[33m\u001b[1mWARNING \u001b[0m | \u001b[36mbioimageio.spec._io\u001b[0m:\u001b[36mload_description\u001b[0m:\u001b[36m84\u001b[0m - \u001b[33m\u001b[1mreturning already loaded description 'Nuclei Segmentation Boundary Model' as is\u001b[0m\n",
      "\u001b[32m2025-08-17 18:57:20.474\u001b[0m | \u001b[33m\u001b[1mWARNING \u001b[0m | \u001b[36mbioimageio.spec._io\u001b[0m:\u001b[36mload_description\u001b[0m:\u001b[36m84\u001b[0m - \u001b[33m\u001b[1mreturning already loaded description 'Nuclei Segmentation Boundary Model' as is\u001b[0m\n",
      "\u001b[32m2025-08-17 18:57:20.481\u001b[0m | \u001b[33m\u001b[1mWARNING \u001b[0m | \u001b[36mbioimageio.spec._io\u001b[0m:\u001b[36mload_description\u001b[0m:\u001b[36m84\u001b[0m - \u001b[33m\u001b[1mreturning already loaded description 'Nuclei Segmentation Boundary Model' as is\u001b[0m\n",
      "\u001b[32m2025-08-17 18:57:20.485\u001b[0m | \u001b[33m\u001b[1mWARNING \u001b[0m | \u001b[36mbioimageio.spec._io\u001b[0m:\u001b[36mload_description\u001b[0m:\u001b[36m84\u001b[0m - \u001b[33m\u001b[1mreturning already loaded description 'Nuclei Segmentation Boundary Model' as is\u001b[0m\n",
      "\u001b[32m2025-08-17 18:57:23.167\u001b[0m | \u001b[33m\u001b[1mWARNING \u001b[0m | \u001b[36mbioimageio.spec._io\u001b[0m:\u001b[36mload_description\u001b[0m:\u001b[36m84\u001b[0m - \u001b[33m\u001b[1mreturning already loaded description 'Nuclei Segmentation Boundary Model' as is\u001b[0m\n",
      "\u001b[32m2025-08-17 18:57:23.217\u001b[0m | \u001b[33m\u001b[1mWARNING \u001b[0m | \u001b[36mbioimageio.spec._io\u001b[0m:\u001b[36mload_description\u001b[0m:\u001b[36m84\u001b[0m - \u001b[33m\u001b[1mreturning already loaded description 'Nuclei Segmentation Boundary Model' as is\u001b[0m\n",
      "\u001b[32m2025-08-17 18:57:24.218\u001b[0m | \u001b[33m\u001b[1mWARNING \u001b[0m | \u001b[36mbioimageio.spec._io\u001b[0m:\u001b[36mload_description\u001b[0m:\u001b[36m84\u001b[0m - \u001b[33m\u001b[1mreturning already loaded description 'Nuclei Segmentation Boundary Model' as is\u001b[0m\n",
      "\u001b[32m2025-08-17 18:57:25.223\u001b[0m | \u001b[33m\u001b[1mWARNING \u001b[0m | \u001b[36mbioimageio.spec._io\u001b[0m:\u001b[36mload_description\u001b[0m:\u001b[36m84\u001b[0m - \u001b[33m\u001b[1mreturning already loaded description 'Nuclei Segmentation Boundary Model' as is\u001b[0m\n",
      "\u001b[32m2025-08-17 18:57:25.490\u001b[0m | \u001b[33m\u001b[1mWARNING \u001b[0m | \u001b[36mbioimageio.spec._io\u001b[0m:\u001b[36mload_description\u001b[0m:\u001b[36m84\u001b[0m - \u001b[33m\u001b[1mreturning already loaded description 'Nuclei Segmentation Boundary Model' as is\u001b[0m\n"
     ]
    }
   ],
   "source": [
    "#to call the function, you need:\n",
    "process_images(dict[\"G\"][0])\n",
    "#print(shape)"
   ]
  },
  {
   "cell_type": "markdown",
   "id": "40d60d9f",
   "metadata": {},
   "source": [
    "For all images from folder"
   ]
  },
  {
   "cell_type": "code",
   "execution_count": null,
   "id": "76325c89",
   "metadata": {},
   "outputs": [],
   "source": [
    "#without GPU\n",
    "for phase in phases:\n",
    "    process_images(dict[phase][0])\n",
    "    print(f\"Processing of phase {phase} completed\")\n",
    "\n",
    "print(\"Completed all.\")\n"
   ]
  },
  {
   "cell_type": "code",
   "execution_count": null,
   "id": "f617e0c0",
   "metadata": {},
   "outputs": [
    {
     "name": "stdout",
     "output_type": "stream",
     "text": [
      "(97, 512, 512)\n",
      "2015.01.17_MTX_1h-1h_G_Pos033_S001_0_C1\n",
      "Saved as Zarr: ./zarr_files/2015.01.17_MTX_1h-1h_G_Pos033_S001_0_C1.zarr\n",
      "Z_dask shape: (97, 512, 512)\n",
      "Sun Aug 17 19:45:47 2025\n"
     ]
    },
    {
     "name": "stderr",
     "output_type": "stream",
     "text": [
      "\u001b[32m2025-08-17 19:45:47.369\u001b[0m | \u001b[33m\u001b[1mWARNING \u001b[0m | \u001b[36mbioimageio.spec._io\u001b[0m:\u001b[36mload_description\u001b[0m:\u001b[36m84\u001b[0m - \u001b[33m\u001b[1mreturning already loaded description 'Nuclei Segmentation Boundary Model' as is\u001b[0m\n",
      "\u001b[32m2025-08-17 19:45:47.371\u001b[0m | \u001b[33m\u001b[1mWARNING \u001b[0m | \u001b[36mbioimageio.spec._io\u001b[0m:\u001b[36mload_description\u001b[0m:\u001b[36m84\u001b[0m - \u001b[33m\u001b[1mreturning already loaded description 'Nuclei Segmentation Boundary Model' as is\u001b[0m\n",
      "\u001b[32m2025-08-17 19:45:47.377\u001b[0m | \u001b[33m\u001b[1mWARNING \u001b[0m | \u001b[36mbioimageio.spec._io\u001b[0m:\u001b[36mload_description\u001b[0m:\u001b[36m84\u001b[0m - \u001b[33m\u001b[1mreturning already loaded description 'Nuclei Segmentation Boundary Model' as is\u001b[0m\n",
      "\u001b[32m2025-08-17 19:45:47.378\u001b[0m | \u001b[33m\u001b[1mWARNING \u001b[0m | \u001b[36mbioimageio.spec._io\u001b[0m:\u001b[36mload_description\u001b[0m:\u001b[36m84\u001b[0m - \u001b[33m\u001b[1mreturning already loaded description 'Nuclei Segmentation Boundary Model' as is\u001b[0m\n",
      "\u001b[32m2025-08-17 19:45:47.381\u001b[0m | \u001b[33m\u001b[1mWARNING \u001b[0m | \u001b[36mbioimageio.spec._io\u001b[0m:\u001b[36mload_description\u001b[0m:\u001b[36m84\u001b[0m - \u001b[33m\u001b[1mreturning already loaded description 'Nuclei Segmentation Boundary Model' as is\u001b[0m\n",
      "\u001b[32m2025-08-17 19:45:47.381\u001b[0m | \u001b[33m\u001b[1mWARNING \u001b[0m | \u001b[36mbioimageio.spec._io\u001b[0m:\u001b[36mload_description\u001b[0m:\u001b[36m84\u001b[0m - \u001b[33m\u001b[1mreturning already loaded description 'Nuclei Segmentation Boundary Model' as is\u001b[0m\n",
      "\u001b[32m2025-08-17 19:45:47.382\u001b[0m | \u001b[33m\u001b[1mWARNING \u001b[0m | \u001b[36mbioimageio.spec._io\u001b[0m:\u001b[36mload_description\u001b[0m:\u001b[36m84\u001b[0m - \u001b[33m\u001b[1mreturning already loaded description 'Nuclei Segmentation Boundary Model' as is\u001b[0m\n",
      "\u001b[32m2025-08-17 19:45:47.383\u001b[0m | \u001b[33m\u001b[1mWARNING \u001b[0m | \u001b[36mbioimageio.spec._io\u001b[0m:\u001b[36mload_description\u001b[0m:\u001b[36m84\u001b[0m - \u001b[33m\u001b[1mreturning already loaded description 'Nuclei Segmentation Boundary Model' as is\u001b[0m\n"
     ]
    },
    {
     "ename": "KeyboardInterrupt",
     "evalue": "",
     "output_type": "error",
     "traceback": [
      "\u001b[0;31m---------------------------------------------------------------------------\u001b[0m",
      "\u001b[0;31mKeyboardInterrupt\u001b[0m                         Traceback (most recent call last)",
      "Cell \u001b[0;32mIn[17], line 3\u001b[0m\n\u001b[1;32m      1\u001b[0m \u001b[38;5;28;01mfor\u001b[39;00m phase \u001b[38;5;129;01min\u001b[39;00m phases:\n\u001b[1;32m      2\u001b[0m     \u001b[38;5;28;01mwith\u001b[39;00m tf\u001b[38;5;241m.\u001b[39mdevice(\u001b[38;5;124m'\u001b[39m\u001b[38;5;124m/GPU:0\u001b[39m\u001b[38;5;124m'\u001b[39m):  \n\u001b[0;32m----> 3\u001b[0m         \u001b[43mprocess_images\u001b[49m\u001b[43m(\u001b[49m\u001b[38;5;28;43mdict\u001b[39;49m\u001b[43m[\u001b[49m\u001b[43mphase\u001b[49m\u001b[43m]\u001b[49m\u001b[43m[\u001b[49m\u001b[38;5;241;43m0\u001b[39;49m\u001b[43m]\u001b[49m\u001b[43m)\u001b[49m\n\u001b[1;32m      4\u001b[0m     \u001b[38;5;28mprint\u001b[39m(\u001b[38;5;124mf\u001b[39m\u001b[38;5;124m\"\u001b[39m\u001b[38;5;124mProcessing of phase \u001b[39m\u001b[38;5;132;01m{\u001b[39;00mphase\u001b[38;5;132;01m}\u001b[39;00m\u001b[38;5;124m completed\u001b[39m\u001b[38;5;124m\"\u001b[39m)\n\u001b[1;32m      6\u001b[0m \u001b[38;5;28mprint\u001b[39m(\u001b[38;5;124m\"\u001b[39m\u001b[38;5;124mCompleted all.\u001b[39m\u001b[38;5;124m\"\u001b[39m)\n",
      "Cell \u001b[0;32mIn[16], line 28\u001b[0m, in \u001b[0;36mprocess_images\u001b[0;34m(image_data)\u001b[0m\n\u001b[1;32m     25\u001b[0m   lazy_results\u001b[38;5;241m.\u001b[39mappend(r)\n\u001b[1;32m     27\u001b[0m \u001b[38;5;28mprint\u001b[39m(time\u001b[38;5;241m.\u001b[39mctime())\n\u001b[0;32m---> 28\u001b[0m results \u001b[38;5;241m=\u001b[39m \u001b[43mdask\u001b[49m\u001b[38;5;241;43m.\u001b[39;49m\u001b[43mcompute\u001b[49m\u001b[43m(\u001b[49m\u001b[38;5;241;43m*\u001b[39;49m\u001b[43mlazy_results\u001b[49m\u001b[43m)\u001b[49m\n\u001b[1;32m     29\u001b[0m \u001b[38;5;28mprint\u001b[39m(time\u001b[38;5;241m.\u001b[39mctime())\n\u001b[1;32m     31\u001b[0m \u001b[38;5;66;03m#save prediction\u001b[39;00m\n\u001b[1;32m     32\u001b[0m \u001b[38;5;66;03m#prediction_stack = np.stack(results, axis=0)\u001b[39;00m\n\u001b[1;32m     33\u001b[0m \u001b[38;5;66;03m#output_path = \"./predictions/\" + sample_ch + \".tif\"\u001b[39;00m\n\u001b[0;32m   (...)\u001b[0m\n\u001b[1;32m     36\u001b[0m \u001b[38;5;66;03m#masks\u001b[39;00m\n\u001b[1;32m     37\u001b[0m \u001b[38;5;66;03m# List to store binarized planes\u001b[39;00m\n",
      "File \u001b[0;32m~/miniconda3/envs/bioimage_env/lib/python3.10/site-packages/dask/base.py:681\u001b[0m, in \u001b[0;36mcompute\u001b[0;34m(traverse, optimize_graph, scheduler, get, *args, **kwargs)\u001b[0m\n\u001b[1;32m    678\u001b[0m     expr \u001b[38;5;241m=\u001b[39m expr\u001b[38;5;241m.\u001b[39moptimize()\n\u001b[1;32m    679\u001b[0m     keys \u001b[38;5;241m=\u001b[39m \u001b[38;5;28mlist\u001b[39m(flatten(expr\u001b[38;5;241m.\u001b[39m__dask_keys__()))\n\u001b[0;32m--> 681\u001b[0m     results \u001b[38;5;241m=\u001b[39m \u001b[43mschedule\u001b[49m\u001b[43m(\u001b[49m\u001b[43mexpr\u001b[49m\u001b[43m,\u001b[49m\u001b[43m \u001b[49m\u001b[43mkeys\u001b[49m\u001b[43m,\u001b[49m\u001b[43m \u001b[49m\u001b[38;5;241;43m*\u001b[39;49m\u001b[38;5;241;43m*\u001b[39;49m\u001b[43mkwargs\u001b[49m\u001b[43m)\u001b[49m\n\u001b[1;32m    683\u001b[0m \u001b[38;5;28;01mreturn\u001b[39;00m repack(results)\n",
      "File \u001b[0;32m~/miniconda3/envs/bioimage_env/lib/python3.10/queue.py:171\u001b[0m, in \u001b[0;36mQueue.get\u001b[0;34m(self, block, timeout)\u001b[0m\n\u001b[1;32m    169\u001b[0m \u001b[38;5;28;01melif\u001b[39;00m timeout \u001b[38;5;129;01mis\u001b[39;00m \u001b[38;5;28;01mNone\u001b[39;00m:\n\u001b[1;32m    170\u001b[0m     \u001b[38;5;28;01mwhile\u001b[39;00m \u001b[38;5;129;01mnot\u001b[39;00m \u001b[38;5;28mself\u001b[39m\u001b[38;5;241m.\u001b[39m_qsize():\n\u001b[0;32m--> 171\u001b[0m         \u001b[38;5;28;43mself\u001b[39;49m\u001b[38;5;241;43m.\u001b[39;49m\u001b[43mnot_empty\u001b[49m\u001b[38;5;241;43m.\u001b[39;49m\u001b[43mwait\u001b[49m\u001b[43m(\u001b[49m\u001b[43m)\u001b[49m\n\u001b[1;32m    172\u001b[0m \u001b[38;5;28;01melif\u001b[39;00m timeout \u001b[38;5;241m<\u001b[39m \u001b[38;5;241m0\u001b[39m:\n\u001b[1;32m    173\u001b[0m     \u001b[38;5;28;01mraise\u001b[39;00m \u001b[38;5;167;01mValueError\u001b[39;00m(\u001b[38;5;124m\"\u001b[39m\u001b[38;5;124m'\u001b[39m\u001b[38;5;124mtimeout\u001b[39m\u001b[38;5;124m'\u001b[39m\u001b[38;5;124m must be a non-negative number\u001b[39m\u001b[38;5;124m\"\u001b[39m)\n",
      "File \u001b[0;32m~/miniconda3/envs/bioimage_env/lib/python3.10/threading.py:320\u001b[0m, in \u001b[0;36mCondition.wait\u001b[0;34m(self, timeout)\u001b[0m\n\u001b[1;32m    318\u001b[0m \u001b[38;5;28;01mtry\u001b[39;00m:    \u001b[38;5;66;03m# restore state no matter what (e.g., KeyboardInterrupt)\u001b[39;00m\n\u001b[1;32m    319\u001b[0m     \u001b[38;5;28;01mif\u001b[39;00m timeout \u001b[38;5;129;01mis\u001b[39;00m \u001b[38;5;28;01mNone\u001b[39;00m:\n\u001b[0;32m--> 320\u001b[0m         \u001b[43mwaiter\u001b[49m\u001b[38;5;241;43m.\u001b[39;49m\u001b[43macquire\u001b[49m\u001b[43m(\u001b[49m\u001b[43m)\u001b[49m\n\u001b[1;32m    321\u001b[0m         gotit \u001b[38;5;241m=\u001b[39m \u001b[38;5;28;01mTrue\u001b[39;00m\n\u001b[1;32m    322\u001b[0m     \u001b[38;5;28;01melse\u001b[39;00m:\n",
      "\u001b[0;31mKeyboardInterrupt\u001b[0m: "
     ]
    }
   ],
   "source": [
    "#with GPU\n",
    "for phase in phases:\n",
    "    with tf.device('/GPU:0'): \n",
    "        process_images(dict[phase][0])\n",
    "    print(f\"Processing of phase {phase} completed\")\n",
    "\n",
    "print(\"Completed all.\")\n"
   ]
  }
 ],
 "metadata": {
  "kernelspec": {
   "display_name": "bioimage_env",
   "language": "python",
   "name": "python3"
  },
  "language_info": {
   "codemirror_mode": {
    "name": "ipython",
    "version": 3
   },
   "file_extension": ".py",
   "mimetype": "text/x-python",
   "name": "python",
   "nbconvert_exporter": "python",
   "pygments_lexer": "ipython3",
   "version": "3.10.18"
  }
 },
 "nbformat": 4,
 "nbformat_minor": 5
}
